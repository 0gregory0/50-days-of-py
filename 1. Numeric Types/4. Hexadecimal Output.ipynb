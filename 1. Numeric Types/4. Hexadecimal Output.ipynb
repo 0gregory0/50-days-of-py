{
 "cells": [
  {
   "cell_type": "markdown",
   "metadata": {},
   "source": [
    "# Exercise 4 -> Hexadecimal Output\n",
    "---\n",
    "\n",
    "## Intro\n",
    "Hexadecimal numbers are fairly common in the world of computers. Actually, that’s not entirely true; some programmers use them all of the time. Other programmers, typically using high-level languages and doing things such as web development,\n",
    "barely even remember how to use them.\n",
    "\n",
    "Now, the fact is that I barely use hexadecimal numbers in my day-to-day work. And even if I were to need them, I could use [Python’s built-in hex function](http://mng.bz/nPxg) and 0x prefix. The former takes an integer and returns a hex string; the latter allows me to enter a number using hexadecimal notation, which can be more convenient. Thus, 0x50 is 80, and hex(80) will return the string 0x50.\n",
    "\n",
    "---\n",
    "\n",
    "## The Exercise\n",
    "For this exercise, you need to write a function (hex_output) that takes a hex number and returns the decimal equivalent That is, if the user enters 50, you’ll assumethat it’s a hex number (equal to 0x50) and will print the value 80 to the screen. And no, you shouldn’t convert the number all at once using the int function, although it’s permissible to use int one digit at a time.\n",
    "\n",
    "This exercise isn’t meant to test your math skills; not only can you get the hex equivalent of integers with the hex function, but most people don’t even need that in their day-to-day lives. However, this does touch on the conversion (in various ways) across types that we can do in Python, thanks to the fact that sequences (e.g., strings)\n",
    "are iterable. Consider also the built-in functions that you can use to solve this problem even more easily than if you had to write things from scratch.\n",
    "> TIP Python’s exponentiation operator is \\**. So the result of 2**3 is the integer 8"
   ]
  }
 ],
 "metadata": {
  "kernelspec": {
   "display_name": "Python 3",
   "language": "python",
   "name": "python3"
  },
  "language_info": {
   "name": "python",
   "version": "3.11.2"
  },
  "orig_nbformat": 4
 },
 "nbformat": 4,
 "nbformat_minor": 2
}
