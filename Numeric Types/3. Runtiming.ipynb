{
 "cells": [
  {
   "attachments": {},
   "cell_type": "markdown",
   "metadata": {},
   "source": [
    "# EXercise 3 -> Run Timing\n",
    "\n",
    "---\n",
    "---\n",
    "\n",
    "## Intro\n",
    "System administrators often use Python to perform a variety of tasks, including producing reports from user inputs and files. It’s not unusual to report how often a particular error message has occurred, or which IP addresses have accessed a server most\n",
    "recently, or which usernames are most likely to have incorrect passwords. Learning\n",
    "how to accumulate information over time and produce some basic reports (including\n",
    "average times) is thus useful and important. Moreover, knowing how to work with\n",
    "floating-point values, and the differences between them and integers, is important.\n",
    " For this exercise, then, we’ll assume that you run 10 km each day as part of your\n",
    "exercise regime. You want to know how long, on average, that run takes.\n",
    "\n",
    "---\n",
    "\n",
    "## Exercise\n",
    "\n",
    "Write a function ```run_timing()``` that asks how long it took for you to run 10 km.\n",
    "The function continues to ask how long (in minutes) it took for additional runs, until\n",
    "the user presses Enter. At that point, the function exits—but only after calculating and\n",
    "displaying the average time that the 10 km runs took.\n",
    "\n",
    "For example, here’s what the output would look like if the user entered three data\n",
    "points:\n",
    "\n",
    "```Enter 10 km run time: 15```\n",
    "\n",
    "```Enter 10 km run time: 20```\n",
    "\n",
    "```Enter 10 km run time: 10```\n",
    "\n",
    "```Enter 10 km run time: <enter>```\n",
    "\n",
    "```Average of 15.0, over 3 runs```\n",
    "\n",
    "Note that the numeric inputs and outputs should all be floating-point values. This\n",
    "exercise is meant to help you practice converting inputs into appropriate types, along\n",
    "with tracking information over time. You’ll probably be tracking data that’s more\n",
    "sophisticated than running times and distances, but the idea of accumulating data\n",
    "over time is common in programs, and it’s important to see how to do this in Python.\n",
    "\n",
    "---"
   ]
  },
  {
   "attachments": {},
   "cell_type": "markdown",
   "metadata": {},
   "source": [
    "## My Solution:"
   ]
  },
  {
   "cell_type": "code",
   "execution_count": 2,
   "metadata": {},
   "outputs": [
    {
     "name": "stdout",
     "output_type": "stream",
     "text": [
      "20.0\n"
     ]
    },
    {
     "data": {
      "text/plain": [
       "20.0"
      ]
     },
     "execution_count": 2,
     "metadata": {},
     "output_type": "execute_result"
    }
   ],
   "source": [
    "def run_timing(): # Defining the function\n",
    "\n",
    "    run_times = [] # A list of all the runtimes the user entered\n",
    "\n",
    "    while True: # A while loop for continuously getting user input\n",
    "\n",
    "        run_time = input(\"How long (in minutes) did it take you to do a 10K run?\")\n",
    "\n",
    "        if run_time == \"\": # Checks when the user presses enter\n",
    "            break\n",
    "\n",
    "        else:\n",
    "            try:\n",
    "                run_time = float(run_time)\n",
    "\n",
    "            except:\n",
    "                print(\"Please enter a valid number in symbols. eg. 10 instead of ten\")\n",
    "                print(\"Rerun the program to try again\")\n",
    "                break\n",
    "\n",
    "            run_times.append(run_time) # Appending our values into a list for operations\n",
    "\n",
    "    average_run_time = (sum(run_times))/(len(run_times)) # Calculating the average run times\n",
    "    \n",
    "    print(average_run_time) # Displaying the result\n",
    "    return average_run_time # Storing the result\n",
    "\n",
    "# I forgot to call the function and started debugging my input function\n",
    "# Call the function!!!\n",
    "\n",
    "run_timing() # Please don't forget "
   ]
  },
  {
   "attachments": {},
   "cell_type": "markdown",
   "metadata": {},
   "source": [
    "---"
   ]
  }
 ],
 "metadata": {
  "kernelspec": {
   "display_name": "Python 3",
   "language": "python",
   "name": "python3"
  },
  "language_info": {
   "codemirror_mode": {
    "name": "ipython",
    "version": 3
   },
   "file_extension": ".py",
   "mimetype": "text/x-python",
   "name": "python",
   "nbconvert_exporter": "python",
   "pygments_lexer": "ipython3",
   "version": "3.11.2"
  },
  "orig_nbformat": 4
 },
 "nbformat": 4,
 "nbformat_minor": 2
}
