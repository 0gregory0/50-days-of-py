{
 "cells": [
  {
   "attachments": {},
   "cell_type": "markdown",
   "metadata": {},
   "source": [
    "# Exercise 2 -> Summing Numbers\n",
    "\n",
    "---\n",
    "---\n",
    "\n",
    "## Intro\n",
    "\n",
    "In this exercise, you’ll reimplement the ```sum()``` (https://docs.python.org/3/library/functions.html#sum) function\n",
    "that comes with Python. That function takes a sequence of numbers and returns the\n",
    "sum of those numbers. So if you were to invoke sum([1,2,3]), the result would be 6.\n",
    "\n",
    "---\n",
    "\n",
    "## Exercise\n",
    "\n",
    "The challenge here is to write a ```mysum()``` function that does the same thing as the\n",
    "built-in ```sum()``` function. However, instead of taking a single sequence as a parameter, it\n",
    "should take a variable number of arguments. Thus, although you might invoke\n",
    "```sum([1,2,3])```, you’d instead invoke ```mysum(1,2,3)``` or ```mysum(10,20,30,40,50)```.\n",
    "\n",
    "> **NOTE** The built-in sum function takes an optional second argument, which\n",
    "we’re ignoring here.\n",
    "\n",
    "\n",
    "And no, you shouldn’t use the built-in sum function to accomplish this! (You’d be\n",
    "amazed just how often someone asks me this question when I’m teaching courses.)\n",
    "\n",
    "\n",
    "This exercise is meant to help you think about not only numbers, but also the\n",
    "design of functions. And in particular, you should think about the types of parameters\n",
    "functions can take in Python.  In many languages, you can define functions multiple\n",
    "times, each with a different type signature (i.e., number of parameters, and parameter types). In Python, only one function definition (i.e., the last time that the function was defined) sticks. The flexibility comes from appropriate use of the different parameter types.\n",
    "\n",
    "> **TIP** If you’re not familiar with it, you’ll probably want to look into the ```splat```\n",
    "operator (asterisk), described in this Python tutorial: https://docs.python.org/3/tutorial/controlflow.html#arbitrary-argument-lists\n",
    "\n",
    "---"
   ]
  },
  {
   "attachments": {},
   "cell_type": "markdown",
   "metadata": {},
   "source": [
    "## My Solution:"
   ]
  },
  {
   "cell_type": "code",
   "execution_count": null,
   "metadata": {},
   "outputs": [],
   "source": []
  },
  {
   "attachments": {},
   "cell_type": "markdown",
   "metadata": {},
   "source": [
    "---"
   ]
  }
 ],
 "metadata": {
  "kernelspec": {
   "display_name": "Python 3",
   "language": "python",
   "name": "python3"
  },
  "language_info": {
   "codemirror_mode": {
    "name": "ipython",
    "version": 3
   },
   "file_extension": ".py",
   "mimetype": "text/x-python",
   "name": "python",
   "nbconvert_exporter": "python",
   "pygments_lexer": "ipython3",
   "version": "3.11.2"
  },
  "orig_nbformat": 4
 },
 "nbformat": 4,
 "nbformat_minor": 2
}
