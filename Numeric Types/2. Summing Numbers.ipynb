{
 "cells": [
  {
   "attachments": {},
   "cell_type": "markdown",
   "metadata": {},
   "source": [
    "# Exercise 2 -> Summing Numbers\n",
    "\n",
    "---\n",
    "---\n",
    "\n",
    "## Intro\n",
    "\n",
    "In this exercise, you’ll reimplement the ```sum()``` (https://docs.python.org/3/library/functions.html#sum) function\n",
    "that comes with Python. That function takes a sequence of numbers and returns the\n",
    "sum of those numbers. So if you were to invoke sum([1,2,3]), the result would be 6.\n",
    "\n",
    "---\n",
    "\n",
    "## Exercise\n",
    "\n",
    "The challenge here is to write a ```mysum()``` function that does the same thing as the\n",
    "built-in ```sum()``` function. However, instead of taking a single sequence as a parameter, it\n",
    "should take a variable number of arguments. Thus, although you might invoke\n",
    "```sum([1,2,3])```, you’d instead invoke ```mysum(1,2,3)``` or ```mysum(10,20,30,40,50)```.\n",
    "\n",
    "> **NOTE** The built-in sum function takes an optional second argument, which\n",
    "we’re ignoring here.\n",
    "\n",
    "\n",
    "And no, you shouldn’t use the built-in sum function to accomplish this! (You’d be\n",
    "amazed just how often someone asks me this question when I’m teaching courses.)\n",
    "\n",
    "\n",
    "This exercise is meant to help you think about not only numbers, but also the\n",
    "design of functions. And in particular, you should think about the types of parameters\n",
    "functions can take in Python.  In many languages, you can define functions multiple\n",
    "times, each with a different type signature (i.e., number of parameters, and parameter types). In Python, only one function definition (i.e., the last time that the function was defined) sticks. The flexibility comes from appropriate use of the different parameter types.\n",
    "\n",
    "> **TIP** If you’re not familiar with it, you’ll probably want to look into the ```splat```\n",
    "operator (asterisk), described in this Python tutorial: https://docs.python.org/3/tutorial/controlflow.html#arbitrary-argument-lists\n",
    "\n",
    "---"
   ]
  },
  {
   "attachments": {},
   "cell_type": "markdown",
   "metadata": {},
   "source": [
    "## My Solution:"
   ]
  },
  {
   "cell_type": "code",
   "execution_count": 13,
   "metadata": {},
   "outputs": [
    {
     "name": "stdout",
     "output_type": "stream",
     "text": [
      "90\n"
     ]
    },
    {
     "data": {
      "text/plain": [
       "90"
      ]
     },
     "execution_count": 13,
     "metadata": {},
     "output_type": "execute_result"
    }
   ],
   "source": [
    "def my_sum(*args): # Defining the function\n",
    "\n",
    "    \"\"\"When called, this function sums the numbers passed as arguments\"\"\"\n",
    "\n",
    "    the_sum = 0 # Initiating a variable that stores the sum of the arguments\n",
    "\n",
    "    try: # You know, coz errors may occur\n",
    "        for arg in args: # A for loop to sum the number of arguments\n",
    "            the_sum += arg \n",
    "\n",
    "    except: # What to do when an error does occur\n",
    "        print(\"You guy my guy. Please use numbers only.\")\n",
    "        return None\n",
    "\n",
    "    print(the_sum)\n",
    "    return the_sum\n",
    "\n",
    "my_sum(20, 30, 40) # Calling the function because no one else picks my calls"
   ]
  },
  {
   "attachments": {},
   "cell_type": "markdown",
   "metadata": {},
   "source": [
    "---\n",
    "\n",
    "## Beyond the exercise\n",
    "\n",
    "### Exercise 1\n",
    "The built-in version of ```sum``` takes an optional second argument, which is used as\n",
    "the starting point for the summing. (That’s why it takes a list of numbers as its\n",
    "first argument, unlike our ```mysum``` implementation.) So ```sum([1,2,3], 4)``` returns\n",
    "```10```, because ```1+2+3 is 6```, which would be added to the starting value of ```4```. Reimplement your ```mysum``` function such that it works in this way. If a second argument is not provided, then it should default to ```0```. Note that while you can write\n",
    "a function in Python 3 that defines a parameter after *args, I’d suggest avoiding it and just taking two arguments—a list and an optional starting point."
   ]
  },
  {
   "cell_type": "code",
   "execution_count": null,
   "metadata": {},
   "outputs": [],
   "source": [
    "def mysum(l: list, starting_point = 0):\n",
    "    \n",
    "    \"\"\"\n",
    "    When called, this function, which takes in a list of numbers and a starting point number as arguments,\n",
    "    calculates the sum of the list of numbers starting from the starting point. For example, mysum([1,2,3], 4),\n",
    "    starts at, 4, the starting point, and calculates the sum of the list from there.\n",
    "    \"\"\"\n",
    "\n",
    "    for i in l:\n",
    "        starting_point += i\n",
    "\n",
    "    return starting_point\n",
    "\n",
    "# Testing out the function\n",
    "mysum([1,2,3], 4)\n",
    "mysum([1,2,3], 7)\n",
    "mysum([1,2,3])"
   ]
  },
  {
   "attachments": {},
   "cell_type": "markdown",
   "metadata": {},
   "source": [
    "## Exercise 2\n",
    "\n",
    "Write a function that takes a list of numbers. It should return the average (i.e.,\n",
    "arithmetic mean) of those numbers"
   ]
  },
  {
   "cell_type": "code",
   "execution_count": null,
   "metadata": {},
   "outputs": [],
   "source": [
    "def mean(numbers: list):\n",
    "\n",
    "    \"\"\"\n",
    "    When called, this function, which takes in a list of numbers as an argument,\n",
    "    returns the average of the numbers\n",
    "    \"\"\"\n",
    "\n",
    "    total = 0\n",
    "    for number in numbers:\n",
    "        total += number\n",
    "\n",
    "    average = total/len(numbers)\n",
    "    return average\n",
    "\n",
    "mean([10, 20, 30])"
   ]
  },
  {
   "attachments": {},
   "cell_type": "markdown",
   "metadata": {},
   "source": [
    "## Exercise 3\n",
    "\n",
    "Write a function that takes a list of words (strings). It should return a tuple containing three integers, representing the length of the shortest word, the length of the longest word, and the average word length."
   ]
  },
  {
   "cell_type": "code",
   "execution_count": null,
   "metadata": {},
   "outputs": [],
   "source": [
    "def word_stats(words: list):\n",
    "\n",
    "    \"\"\"\n",
    "    When called, this function, which takes in a list of words as an arg,\n",
    "    returns the length of the shortest word, the length of the longest word, and the average word length\n",
    "    \"\"\"\n",
    "\n",
    "    word_lengths = [] # A list that stores all the lengths and analyzes them to yield the desired output\n",
    "\n",
    "    for word in words:\n",
    "        word_lengths.append(len(word)) # populating the list above\n",
    "    \n",
    "    words_stats = min(word_lengths), max(word_lengths), sum(word_lengths)/len(word_lengths) # This is what we want aka \"The desired output\"\n",
    "    return words_stats # Storing the value of the function\n",
    "\n",
    "word_stats(\"My name is Jeff. It's a meme referrence.\".split()) # Calling the function to test it"
   ]
  }
 ],
 "metadata": {
  "kernelspec": {
   "display_name": "Python 3",
   "language": "python",
   "name": "python3"
  },
  "language_info": {
   "codemirror_mode": {
    "name": "ipython",
    "version": 3
   },
   "file_extension": ".py",
   "mimetype": "text/x-python",
   "name": "python",
   "nbconvert_exporter": "python",
   "pygments_lexer": "ipython3",
   "version": "3.11.2"
  },
  "orig_nbformat": 4
 },
 "nbformat": 4,
 "nbformat_minor": 2
}
