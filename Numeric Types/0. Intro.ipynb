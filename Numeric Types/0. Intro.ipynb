{
 "cells": [
  {
   "attachments": {},
   "cell_type": "markdown",
   "metadata": {},
   "source": [
    "# Numeric Types\n",
    "---\n",
    "Whether you’re calculating salaries, bank interest, or cellular frequencies, it’s hard\n",
    "to imagine a program that doesn’t use numbers in one way or another. Python has\n",
    "three different numeric types: int, float, and complex. For most of us, it’s enough\n",
    "to know about (and work with) int (for whole numbers) and float (for numbers\n",
    "with a fractional component).\n",
    "\n",
    "Numbers are not only fundamental to programming, but also give us a good\n",
    "introduction to how a programming language operates. Understanding how variable assignment and function arguments work with integers and floats will help you\n",
    "to reason about more complex types, such as strings, tuples, and dicts.\n",
    "\n",
    "This chapter contains exercises that work with numbers, as inputs and as outputs. Although working with numbers can be fairly basic and straightforward, converting between them, and integrating them with other data types, can sometimes\n",
    "take time to get used to.\n"
   ]
  },
  {
   "attachments": {},
   "cell_type": "markdown",
   "metadata": {},
   "source": [
    "## Prerequisites\n",
    "---\n",
    "| Concept | What is it | Example | To Learn More |\n",
    "| -------- | -------- | -------- | -------- |\n",
    "| ```random``` | A module for generating random numbers and selecting random elements | ```number = random.randint(1, 100)``` | https://docs.python.org/3/library/random.html |\n",
    "| Comparisons |  Operators for comparing values | ```x < y``` | https://docs.python.org/3/reference/expressions.html#comparisons |\n",
    "f-strings | Strings into which expressions can be interpolated | ```f\"My name is {name} and I am {age} years old\"``` | https://peps.python.org/pep-0498/ |\n",
    "```for``` loops | Iterates over the elements of an iterable | ```for i in range (1, 11): print(i)``` | https://docs.python.org/3/tutorial/controlflow.html#for-statements |\n",
    "```enumerate``` | Helps us to number elements of iterables | ```for index, item in enumerate('abc'): print(f'{index}:{item}')``` | https://docs.python.org/3/library/functions.html#enumerate |"
   ]
  }
 ],
 "metadata": {
  "kernelspec": {
   "display_name": "Python 3",
   "language": "python",
   "name": "python3"
  },
  "language_info": {
   "name": "python",
   "version": "3.11.2"
  },
  "orig_nbformat": 4
 },
 "nbformat": 4,
 "nbformat_minor": 2
}
