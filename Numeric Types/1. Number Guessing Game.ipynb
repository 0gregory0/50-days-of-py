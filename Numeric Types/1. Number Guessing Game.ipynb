{
 "cells": [
  {
   "attachments": {},
   "cell_type": "markdown",
   "metadata": {},
   "source": [
    "# EXERCISE 1 -> Number guessing game\n",
    "\n",
    "---\n",
    "---\n",
    "\n",
    "## Intro\n",
    "This first exercise is designed to get your fingers warmed up for the rest of the book. It\n",
    "also introduces a number of topics that will repeat themselves over your Python\n",
    "career: loops, user input, converting types, and comparing values.\n",
    "\n",
    "More specifically, programs all have to get input to do something interesting, and\n",
    "that input often comes from the user. Knowing how to ask the user for input not only\n",
    "is useful, but allows us to think about the type of data we’re getting, how to convert it\n",
    "into a format we can use, and what the format would be.\n",
    "\n",
    "As you might know, Python only provides two kinds of loops: for and while.\n",
    "Knowing how to write and use them will serve you well throughout your Python career.\n",
    "\n",
    "The fact that nearly every type of data knows how to work inside of a for loop makes such loops common and useful.\n",
    "If you’re working with database records, elements in an XML file, or the results from searching for text using regular expressions, you’ll be using for loops quite a bit.\n",
    "\n",
    "---\n",
    "\n",
    "## The Excercise\n",
    "For this exercise: \n",
    "- Write a function ```(guessing_game)``` that takes no arguments.\n",
    "- When run, the function chooses a random integer between 0 and 100 (inclusive).\n",
    "- Then ask the user to guess what number has been chosen.\n",
    "- Each time the user enters a guess, the program indicates one of the following:\n",
    "    - Too high\n",
    "    - Too low\n",
    "    - Just right\n",
    "- If the user guesses correctly, the program exits. Otherwise, the user is asked to try again.\n",
    "- The program only exits after the user guesses correctly.\n",
    "\n",
    "---"
   ]
  },
  {
   "attachments": {},
   "cell_type": "markdown",
   "metadata": {},
   "source": [
    "## My Solution:"
   ]
  },
  {
   "cell_type": "code",
   "execution_count": 4,
   "metadata": {},
   "outputs": [
    {
     "name": "stdout",
     "output_type": "stream",
     "text": [
      "Try staying within the range and maybe you'll get it.\n",
      "Try staying within the range and maybe you'll get it.\n",
      "Try staying within the range and maybe you'll get it.\n",
      "Try staying within the range and maybe you'll get it.\n",
      "Oops, too low! Try again\n",
      "Oops, too low! Try again\n",
      "Oops, too high! Try again.\n",
      "Oops, too low! Try again\n",
      "Oops, too low! Try again\n",
      "Oops, too high! Try again.\n",
      "Oops, too high! Try again.\n",
      "Oops, too low! Try again\n",
      "Oops, too high! Try again.\n",
      "Just right!\n"
     ]
    }
   ],
   "source": [
    "# importing required modules\n",
    "import random # a module used to select or generate random elements\n",
    "\n",
    "# defining the function\n",
    "def guessing_game(): # remember the function does not take any arguments\n",
    "\n",
    "    # Generating a random integer from 0 to 100\n",
    "    number = random.randint(0, 100)\n",
    "\n",
    "    # initiating a while loop so that the program only exits when the guess is right\n",
    "    while True:\n",
    "\n",
    "        # asking for user input\n",
    "        # using a try and except block because some users don't follow instructions\n",
    "        try:\n",
    "            guess = int(input(\"I'm thinking of a number between 0 and 100. Can you guess it?\"))\n",
    "\n",
    "        except:\n",
    "            print(\"Kindly try again, this time entering a valid integer.\")\n",
    "\n",
    "        # comparing the input and providing output\n",
    "        if guess == number:\n",
    "            print(\"Just right!\")\n",
    "            break\n",
    "        \n",
    "        elif guess not in range(0, 101):\n",
    "            print(\"Try staying within the range and maybe you'll get it.\")\n",
    "\n",
    "        elif guess > number:\n",
    "            print(\"Oops, too high! Try again.\")\n",
    "\n",
    "        elif guess < number:\n",
    "            print(\"Oops, too low! Try again\")\n",
    "\n",
    "guessing_game() # calling the function to try it out"
   ]
  },
  {
   "attachments": {},
   "cell_type": "markdown",
   "metadata": {},
   "source": [
    "---"
   ]
  }
 ],
 "metadata": {
  "kernelspec": {
   "display_name": "Python 3",
   "language": "python",
   "name": "python3"
  },
  "language_info": {
   "codemirror_mode": {
    "name": "ipython",
    "version": 3
   },
   "file_extension": ".py",
   "mimetype": "text/x-python",
   "name": "python",
   "nbconvert_exporter": "python",
   "pygments_lexer": "ipython3",
   "version": "3.11.2"
  },
  "orig_nbformat": 4
 },
 "nbformat": 4,
 "nbformat_minor": 2
}
