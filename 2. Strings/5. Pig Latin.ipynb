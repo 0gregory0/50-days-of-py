{
 "cells": [
  {
   "cell_type": "markdown",
   "metadata": {},
   "source": [
    "# Exercise 5 -> Pig Latin\n",
    "---\n",
    "---\n",
    "\n",
    "## Intro\n",
    "[Pig Latin](http://mng.bz/YrON) is a common children’s “secret” language in English-speaking countries.  (It’s normally secret among children who forget that their parents were once children themselves.) The rules for translating words from English into Pig Latin are quite simple:\n",
    "* If the word begins with a vowel (a, e, i, o, or u), add “way” to the end of the word. So “air” becomes “airway” and “eat” becomes “eatway.”\n",
    "* If the word begins with any other letter, then we take the first letter, put it on the end of the word, and then add “ay.” Thus, “python” becomes “ythonpay” and “computer” becomes “omputercay.”\n",
    "\n",
    "---\n",
    "\n",
    "## The Exercise\n",
    "For this exercise, write a Python function (pig_latin) that takes a string as input, *assumed to be an English **word***. The function should return the translation of this word into Pig Latin. You may assume that the word contains no capital letters or punctuation. This exercise isn’t meant to help you translate documents into Pig Latin for your job. (If that is your job, then I really have to question your career choices.) However, it demonstrates some of the powerful techniques that you should know when working with sequences, including searches, iteration, and slices. It’s hard to imagine a Python program that doesn’t include any of these techniques.\n",
    "\n",
    "---"
   ]
  },
  {
   "cell_type": "code",
   "execution_count": 4,
   "metadata": {},
   "outputs": [
    {
     "name": "stdout",
     "output_type": "stream",
     "text": [
      "airway\n",
      "airway\n",
      "eatway\n",
      "ythonpay\n",
      "omputercay\n",
      "rogrammingpay\n"
     ]
    }
   ],
   "source": [
    "def pig_latin(word: str):\n",
    "\n",
    "    \"\"\"\n",
    "    When called, this function accepts a string (assumed to be 1 english word)\n",
    "    and returns it's translation in pig latin. The rules for translating a word\n",
    "    from english to pig latin are:\n",
    "    * If the word begins with a vowel (a, e, i, o, or u), add “way” to the end\n",
    "    of the word. So “air” becomes “airway” and “eat” becomes “eatway.”\n",
    "    * If the word begins with any other letter, then we take the first letter,\n",
    "    put it on the end of the word, and then add “ay.” Thus, “python” becomes\n",
    "    “ythonpay” and “computer” becomes “omputercay.”\n",
    "    \"\"\"\n",
    "\n",
    "    word = word.lower()\n",
    "    \n",
    "    if word[0] in \"aeiou\":\n",
    "        new_word = word + \"way\"\n",
    "    else:\n",
    "        new_word = word[1:] + word[0] + \"ay\"\n",
    "\n",
    "    return new_word\n",
    "\n",
    "# Let's see if it works\n",
    "print(pig_latin(\"air\"))\n",
    "print(pig_latin(\"AIR\"))\n",
    "print(pig_latin(\"eat\"))\n",
    "print(pig_latin(\"python\"))\n",
    "print(pig_latin(\"Computer\"))\n",
    "print(pig_latin(\"PROGRAMMING\"))"
   ]
  },
  {
   "cell_type": "markdown",
   "metadata": {},
   "source": [
    "## Beyond the Exercise\n",
    "### *1. Handle capitalized words*\n",
    "If a word is capitalized (i.e., the first letter is capitalized, but the rest of the word\n",
    "isn’t), then the Pig Latin translation should be similarly capitalized."
   ]
  },
  {
   "cell_type": "code",
   "execution_count": 3,
   "metadata": {},
   "outputs": [
    {
     "name": "stdout",
     "output_type": "stream",
     "text": [
      "ythonpay\n",
      "Omputercay\n",
      "rogrammingpay\n",
      "airway\n",
      "airway\n",
      "Eatway\n"
     ]
    }
   ],
   "source": [
    "def pig_latin(word: str):\n",
    "\n",
    "    if word.istitle():\n",
    "        word = word.lower()\n",
    "\n",
    "        if word[0] in \"aeiou\":\n",
    "            new_word = word + \"way\"\n",
    "        else:\n",
    "            new_word = word[1:] + word[0] + \"ay\"\n",
    "\n",
    "        return new_word.title()\n",
    "    \n",
    "    else:\n",
    "        word = word.lower()\n",
    "    \n",
    "        if word[0] in \"aeiou\":\n",
    "            new_word = word + \"way\"\n",
    "        else:\n",
    "            new_word = word[1:] + word[0] + \"ay\"\n",
    "    \n",
    "        return new_word\n",
    "    \n",
    "# Testing:\n",
    "print(pig_latin(\"python\"))\n",
    "print(pig_latin(\"Computer\"))\n",
    "print(pig_latin(\"PROGRAMMING\"))\n",
    "print(pig_latin(\"air\"))\n",
    "print(pig_latin(\"AIR\"))\n",
    "print(pig_latin(\"Eat\"))"
   ]
  }
 ],
 "metadata": {
  "kernelspec": {
   "display_name": "Python 3",
   "language": "python",
   "name": "python3"
  },
  "language_info": {
   "codemirror_mode": {
    "name": "ipython",
    "version": 3
   },
   "file_extension": ".py",
   "mimetype": "text/x-python",
   "name": "python",
   "nbconvert_exporter": "python",
   "pygments_lexer": "ipython3",
   "version": "3.11.2"
  },
  "orig_nbformat": 4
 },
 "nbformat": 4,
 "nbformat_minor": 2
}
