{
 "cells": [
  {
   "cell_type": "markdown",
   "metadata": {},
   "source": [
    "# Exercise 8 -> Sorting a String\n",
    "---\n",
    "\n",
    "## Intro\n",
    "If strings are immutable, then does this mean we’re stuck with them forever, precisely as they are? Kind of—we can’t change the strings themselves, but we can create new strings based on them, using a combination of built-in functions and string methods. Knowing how to work around strings’ immutability and piece together functionality that effectively changes strings, even though they’re immutable, is a useful skill to have.\n",
    "\n",
    "## The Exercise:\n",
    "In this exercise, you’ll explore this idea by writing a function, ```strsort```, that takes a single string as its input and returns a string. The returned string should contain the same characters as the input, except that its characters should be sorted in order, from the lowest Unicode value to the highest Unicode value. For example, the result of invoking strsort('cba') will be the string 'abc'."
   ]
  },
  {
   "cell_type": "code",
   "execution_count": 6,
   "metadata": {},
   "outputs": [
    {
     "name": "stdout",
     "output_type": "stream",
     "text": [
      "abc\n",
      "effj\n",
      "Aeelnopt\n",
      "Gegorry\n",
      "BEOSZ\n",
      "CSTfimoor\n"
     ]
    }
   ],
   "source": [
    "def strsort(string: str):\n",
    "    char_list = [char for char in string]\n",
    "    return \"\".join(sorted(char_list))\n",
    "\n",
    "#let's test this:\n",
    "print(strsort(\"cba\"))\n",
    "print(strsort(\"jeff\"))\n",
    "print(strsort(\"Antelope\"))\n",
    "print(strsort(\"Gregory\"))\n",
    "print(strsort(\"BEZOS\"))\n",
    "print(strsort(\"miCroSofT\"))"
   ]
  },
  {
   "cell_type": "markdown",
   "metadata": {},
   "source": [
    "You will not believe this! Or maybe you will, but I don't. The ```sorted()``` function takes in ***any iterable*** returns ***a list***! I thought it returns the data type it sorts. That's why, for my solution, I had to create a list, because, I didn't know it works on any iterable, including strings! So all I needed to do was to call the function, and then ```\"\".join()``` it obviously. Let's see how that turns out."
   ]
  },
  {
   "cell_type": "code",
   "execution_count": 2,
   "metadata": {},
   "outputs": [
    {
     "name": "stdout",
     "output_type": "stream",
     "text": [
      "abc\n",
      "effj\n",
      "Aeelnopt\n",
      "Gegorry\n",
      "BEOSZ\n",
      "CSTfimoor\n"
     ]
    }
   ],
   "source": [
    "def strsort_2(string: str):\n",
    "    return \"\".join(sorted(string))\n",
    "\n",
    "print(strsort_2(\"cba\"))\n",
    "print(strsort_2(\"jeff\"))\n",
    "print(strsort_2(\"Antelope\"))\n",
    "print(strsort_2(\"Gregory\"))\n",
    "print(strsort_2(\"BEZOS\"))\n",
    "print(strsort_2(\"miCroSofT\"))"
   ]
  },
  {
   "cell_type": "markdown",
   "metadata": {},
   "source": [
    "It works, and I feel so dumb. Read the docs guys!!"
   ]
  }
 ],
 "metadata": {
  "kernelspec": {
   "display_name": "Python 3",
   "language": "python",
   "name": "python3"
  },
  "language_info": {
   "codemirror_mode": {
    "name": "ipython",
    "version": 3
   },
   "file_extension": ".py",
   "mimetype": "text/x-python",
   "name": "python",
   "nbconvert_exporter": "python",
   "pygments_lexer": "ipython3",
   "version": "3.11.2"
  },
  "orig_nbformat": 4
 },
 "nbformat": 4,
 "nbformat_minor": 2
}
