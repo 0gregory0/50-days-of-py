{
 "cells": [
  {
   "cell_type": "markdown",
   "metadata": {},
   "source": [
    "# Exercise 8 -> Sorting a String\n",
    "---\n",
    "\n",
    "## Intro\n",
    "If strings are immutable, then does this mean we’re stuck with them forever, precisely as they are? Kind of—we can’t change the strings themselves, but we can create new strings based on them, using a combination of built-in functions and string methods. Knowing how to work around strings’ immutability and piece together functionality that effectively changes strings, even though they’re immutable, is a useful skill to have.\n",
    "\n",
    "## The Exercise:\n",
    "In this exercise, you’ll explore this idea by writing a function, ```strsort```, that takes a single string as its input and returns a string. The returned string should contain the same characters as the input, except that its characters should be sorted in order, from the lowest Unicode value to the highest Unicode value. For example, the result of invoking strsort('cba') will be the string 'abc'."
   ]
  },
  {
   "cell_type": "code",
   "execution_count": 6,
   "metadata": {},
   "outputs": [
    {
     "name": "stdout",
     "output_type": "stream",
     "text": [
      "abc\n",
      "effj\n",
      "Aeelnopt\n",
      "Gegorry\n",
      "BEOSZ\n",
      "CSTfimoor\n"
     ]
    }
   ],
   "source": [
    "def strsort(string: str):\n",
    "    char_list = [char for char in string]\n",
    "    return \"\".join(sorted(char_list))\n",
    "\n",
    "#let's test this:\n",
    "print(strsort(\"cba\"))\n",
    "print(strsort(\"jeff\"))\n",
    "print(strsort(\"Antelope\"))\n",
    "print(strsort(\"Gregory\"))\n",
    "print(strsort(\"BEZOS\"))\n",
    "print(strsort(\"miCroSofT\"))"
   ]
  }
 ],
 "metadata": {
  "kernelspec": {
   "display_name": "Python 3",
   "language": "python",
   "name": "python3"
  },
  "language_info": {
   "codemirror_mode": {
    "name": "ipython",
    "version": 3
   },
   "file_extension": ".py",
   "mimetype": "text/x-python",
   "name": "python",
   "nbconvert_exporter": "python",
   "pygments_lexer": "ipython3",
   "version": "3.11.2"
  },
  "orig_nbformat": 4
 },
 "nbformat": 4,
 "nbformat_minor": 2
}
