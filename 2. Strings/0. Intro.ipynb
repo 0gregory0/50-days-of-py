{
 "cells": [
  {
   "cell_type": "markdown",
   "metadata": {},
   "source": [
    "# 2. Strings\n",
    "---\n",
    "\n",
    "Strings in Python are the way we work with text. Words, sentences, paragraphs, and\n",
    "even entire files are read into and manipulated via strings. Because so much of our\n",
    "work revolves around text, it’s no surprise that strings are one of the most common\n",
    "data types.\n",
    "\n",
    "Strings are immutable data types. They can also be called data structures because they\n",
    "store a sequence of data that can be iterated over. This chapter includes exercises\n",
    "designed to help you work with strings in a variety of ways. The more familiar you are\n",
    "with Python’s string manipulation techniques, the easier it will be to work with text.\n"
   ]
  },
  {
   "cell_type": "markdown",
   "metadata": {},
   "source": [
    "## Prerequisites\n",
    "\n",
    "| Concept | What is it? | Example | To learn more |\n",
    "| --- | --- | --- | --- |\n",
    "| ```in``` | Operator for searching in a sequence | ```'a' in 'abcd'``` | http://mng.bz/yy2G |\n",
    "| Slice | Retrieves a subset of elements from a sequence | ``` 'abcdefg'[1:7:2] # returns 'bdf'``` | http://mng.bz/MdW7 |\n",
    "| ```str.split``` | Breaks strings apart, returning a list | ```'abc def ghi'.split() # returns ['abc', 'def', 'ghi']``` | http://mng.bz/aR4z |\n",
    "| ```str.join``` | Combines strings to create a new one | ```'*'.join(['abc', 'def', 'ghi']) # returns 'abc*def*ghi'``` | http://mng.bz/gyYl |\n",
    "| ```list.append``` | Adds an element to a list | ```mylist.append('hello')``` | http://mng.bz/aR7z |\n",
    "| ```sorted``` | Returns a sorted list, based on an input sequence | ```sorted([10, 30, 20]) # returns [10, 20, 30]``` | http://mng.bz/pBEG |\n",
    "| Iterating over files | Opens a file and iterates over its lines one at a time | ```for one_line in open(filename):``` | http://mng.bz/OMAn |"
   ]
  }
 ],
 "metadata": {
  "kernelspec": {
   "display_name": "Python 3",
   "language": "python",
   "name": "python3"
  },
  "language_info": {
   "name": "python",
   "version": "3.11.2"
  },
  "orig_nbformat": 4
 },
 "nbformat": 4,
 "nbformat_minor": 2
}
