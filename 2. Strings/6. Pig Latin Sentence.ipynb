{
 "cells": [
  {
   "cell_type": "markdown",
   "metadata": {},
   "source": [
    "# Exercise 6 -> Pig Latin Sentence\n",
    "---\n",
    "\n",
    "## Introduction\n",
    "Yea.. you guessed it.\n",
    "\n",
    "## The Exercise\n",
    "Now that you’ve successfully written a translator for a single English word, let’s make things more difficult: translate a series of English words into Pig Latin. Write a function called ```pl_sentence()``` that takes a string containing several words, separated by spaces. (To make things easier, we won’t actually ask for a real sentence. More specifically, there will be no capital letters or punctuation.)\n",
    "\n",
    "So, if someone were to call\n",
    "\n",
    "```pl_sentence('this is a test translation')```\n",
    "\n",
    "the output would be\n",
    "\n",
    "```histay isway away esttay ranslationtay```\n",
    "\n",
    "\n",
    "Print the output on a single line, rather than with each word on a separate line\n"
   ]
  },
  {
   "cell_type": "code",
   "execution_count": 1,
   "metadata": {},
   "outputs": [
    {
     "name": "stdout",
     "output_type": "stream",
     "text": [
      "histay isway away esttay ranslationtay\n"
     ]
    }
   ],
   "source": [
    "def pl_sentence(sentence: str):\n",
    "    sentence = sentence.lower()\n",
    "    sentence_list = sentence.split()\n",
    "    new_sentence_list = []\n",
    "\n",
    "    for word in sentence_list:\n",
    "        if word[0] in \"aeiou\":\n",
    "            new_word = word + \"way\"\n",
    "        else:\n",
    "            new_word = word[1:] + word[0] + \"ay\"\n",
    "\n",
    "        new_sentence_list.append(new_word)\n",
    "\n",
    "    new_sentence = \" \".join(new_sentence_list)\n",
    "    return(new_sentence)\n",
    "\n",
    "# Test run\n",
    "print(pl_sentence('this is a test translation'))"
   ]
  }
 ],
 "metadata": {
  "kernelspec": {
   "display_name": "Python 3",
   "language": "python",
   "name": "python3"
  },
  "language_info": {
   "codemirror_mode": {
    "name": "ipython",
    "version": 3
   },
   "file_extension": ".py",
   "mimetype": "text/x-python",
   "name": "python",
   "nbconvert_exporter": "python",
   "pygments_lexer": "ipython3",
   "version": "3.11.2"
  },
  "orig_nbformat": 4
 },
 "nbformat": 4,
 "nbformat_minor": 2
}
